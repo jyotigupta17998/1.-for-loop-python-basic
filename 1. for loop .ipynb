{
 "cells": [
  {
   "cell_type": "code",
   "execution_count": 7,
   "id": "9b22c900-9829-47ce-8afa-93ac3b1a9d03",
   "metadata": {},
   "outputs": [
    {
     "name": "stdin",
     "output_type": "stream",
     "text": [
      "Enter the number for the table: 3\n"
     ]
    },
    {
     "name": "stdout",
     "output_type": "stream",
     "text": [
      "3 x 1 = 3\n",
      "3 x 2 = 6\n",
      "3 x 3 = 9\n",
      "3 x 4 = 12\n",
      "3 x 5 = 15\n",
      "3 x 6 = 18\n",
      "3 x 7 = 21\n",
      "3 x 8 = 24\n",
      "3 x 9 = 27\n",
      "3 x 10 = 30\n"
     ]
    }
   ],
   "source": [
    "number = int(input(\"Enter the number for the table:\"))\n",
    "\n",
    "for i in range(1,11):\n",
    "    print(number, \"x\", i, \"=\" , number*i)"
   ]
  },
  {
   "cell_type": "markdown",
   "id": "ce67b13d-ab43-4267-a6d4-d3f79e2d8d48",
   "metadata": {},
   "source": [
    "#### 1: Write a Python program to print all the numbers from 1 to 10 using a for loop."
   ]
  },
  {
   "cell_type": "code",
   "execution_count": 9,
   "id": "4b2e1960-8b48-4080-b55b-2ac12eafd2cb",
   "metadata": {},
   "outputs": [
    {
     "name": "stdout",
     "output_type": "stream",
     "text": [
      "1\n",
      "2\n",
      "3\n",
      "4\n",
      "5\n",
      "6\n",
      "7\n",
      "8\n",
      "9\n",
      "10\n"
     ]
    }
   ],
   "source": [
    "for i in range (1,11):\n",
    "    print(i)"
   ]
  },
  {
   "cell_type": "markdown",
   "id": "effdf3fb-7b9f-4219-ae99-dbde9339481e",
   "metadata": {},
   "source": [
    "#### 2: Write a Python program to find the sum of all numbers from 1 to 100 using a for loop."
   ]
  },
  {
   "cell_type": "code",
   "execution_count": 33,
   "id": "2bb09998-ef2e-4bea-81b0-b693accc2aaf",
   "metadata": {},
   "outputs": [
    {
     "name": "stdout",
     "output_type": "stream",
     "text": [
      "the sum of all numbers from 1 to 100 is :  5050\n"
     ]
    }
   ],
   "source": [
    "sum = 0\n",
    "for i in range(1, 101):\n",
    "    sum += i\n",
    "    \n",
    "print(\"the sum of all numbers from 1 to 100 is : \", sum)"
   ]
  },
  {
   "cell_type": "markdown",
   "id": "97681881-533f-488e-bed5-a5fedf893a8d",
   "metadata": {},
   "source": [
    "#### 3: Write a Python program to print the multiplication table of a given number using a for loop.."
   ]
  },
  {
   "cell_type": "code",
   "execution_count": 4,
   "id": "78ee6f0f-d58f-46a4-963c-566cb868ea25",
   "metadata": {},
   "outputs": [
    {
     "name": "stdin",
     "output_type": "stream",
     "text": [
      "Enter the number for multiplication : 5\n"
     ]
    },
    {
     "name": "stdout",
     "output_type": "stream",
     "text": [
      "5\n",
      "10\n",
      "15\n",
      "20\n",
      "25\n",
      "30\n",
      "35\n",
      "40\n",
      "45\n",
      "50\n"
     ]
    }
   ],
   "source": [
    "number = int(input(\"Enter the number for multiplication :\"))\n",
    "for i in range(1,11):\n",
    "    print(number * i)"
   ]
  },
  {
   "cell_type": "markdown",
   "id": "75ade615-6f90-40be-a573-ca49a10ec959",
   "metadata": {},
   "source": [
    "#### 4: Write a Python program to count the number of even and odd numbers from a series of numbers using a for loop..."
   ]
  },
  {
   "cell_type": "code",
   "execution_count": 35,
   "id": "b092c390-650e-4054-9e0e-d1a5c5926179",
   "metadata": {},
   "outputs": [
    {
     "name": "stdout",
     "output_type": "stream",
     "text": [
      "List of even numbers: 5\n",
      "List of odd numbers: 5\n"
     ]
    }
   ],
   "source": [
    "even_num = 0\n",
    "odd_num = 0\n",
    "for i in range (1,11):\n",
    "    if i % 2 == 0:\n",
    "        even_num += 1\n",
    "\n",
    "    else:\n",
    "        odd_num += 1\n",
    "\n",
    "print(\"List of even numbers:\", even_num)\n",
    "print(\"List of odd numbers:\", odd_num)"
   ]
  },
  {
   "cell_type": "code",
   "execution_count": 39,
   "id": "11b150fe-d550-4227-ab05-a589054e4afb",
   "metadata": {},
   "outputs": [
    {
     "name": "stdin",
     "output_type": "stream",
     "text": [
      "Enter the starting number:  1\n",
      "Enter the ending number:  10\n"
     ]
    },
    {
     "name": "stdout",
     "output_type": "stream",
     "text": [
      "List of even numbers: 5\n",
      "List of odd numbers: 5\n"
     ]
    }
   ],
   "source": [
    "\n",
    "start = int(input(\"Enter the starting number: \"))\n",
    "end = int(input(\"Enter the ending number: \"))\n",
    "\n",
    "even_num = 0\n",
    "odd_num = 0\n",
    "\n",
    "for i in range(start, end + 1):\n",
    "    if i % 2 == 0:\n",
    "        even_num += 1\n",
    "    else:\n",
    "        odd_num += 1\n",
    "\n",
    "print(\"List of even numbers:\", even_num)\n",
    "print(\"List of odd numbers:\", odd_num)\n"
   ]
  },
  {
   "cell_type": "markdown",
   "id": "8bf9b22e-1ce0-40d4-be8d-3b3f273627d2",
   "metadata": {},
   "source": [
    "#### 5: Write a Python program to find the factorial of a number using a for loop."
   ]
  },
  {
   "cell_type": "code",
   "execution_count": 81,
   "id": "0637bef8-be2f-444a-9233-246fd1df9b53",
   "metadata": {},
   "outputs": [
    {
     "name": "stdin",
     "output_type": "stream",
     "text": [
      "Enter the number for the factorial :  5\n"
     ]
    },
    {
     "name": "stdout",
     "output_type": "stream",
     "text": [
      "Factorial of a number : 120\n"
     ]
    }
   ],
   "source": [
    "num = int(input(\"Enter the number for the factorial : \"))\n",
    "fact = 1\n",
    "\n",
    "for i in range(1, num + 1):\n",
    "    fact *= i\n",
    "\n",
    "print(\"Factorial of a number :\", fact)"
   ]
  },
  {
   "cell_type": "markdown",
   "id": "f6d45869-419b-445a-bab9-915f50052f64",
   "metadata": {},
   "source": [
    "#### 6: Write a Python program to print the Fibonacci sequence up to a specified number using a for loop."
   ]
  },
  {
   "cell_type": "code",
   "execution_count": null,
   "id": "f923d7d9-9ac1-492c-858a-66bf5407f286",
   "metadata": {},
   "outputs": [],
   "source": [
    "numer = int(input(\"Enter the number for the  Fibonacci sequence : \"))\n",
    "n1 = 0\n",
    "n2 = 1\n",
    "\n",
    "print(n1, n2, end=\" \")\n",
    "for i in range(2, num):\n",
    "    n3 = n1 + n2\n",
    "    n1 = n2\n",
    "    n2 = n3\n",
    "    print(n3, end=\" \")"
   ]
  },
  {
   "cell_type": "markdown",
   "id": "f227d2f6-4194-433b-b392-7e40438cc3b8",
   "metadata": {},
   "source": [
    "#### 7: Write a Python program to check if a given number is prime or not using a for loop."
   ]
  },
  {
   "cell_type": "code",
   "execution_count": 27,
   "id": "c82c31af-1b3c-468a-8d5f-7fa84a02ab44",
   "metadata": {},
   "outputs": [
    {
     "name": "stdin",
     "output_type": "stream",
     "text": [
      "Enter the number to check number is prime or not  :  10\n"
     ]
    },
    {
     "name": "stdout",
     "output_type": "stream",
     "text": [
      "10 is not a prime number.\n"
     ]
    }
   ],
   "source": [
    "num = int(input(\"Enter the number to check number is prime or not  : \"))\n",
    "if num < 2:\n",
    "    print(f\"{num} is not a prime number.\")  \n",
    "elif num == 2:\n",
    "    print(f\"{num} is a prime number.\")\n",
    "\n",
    "else:\n",
    "    for i in range(2, num):\n",
    "        if num % i == 0:\n",
    "            print(f\"{num} is not a prime number.\")\n",
    "            break\n",
    "            \n",
    "        else:\n",
    "            print(f\"{num} is a prime number.\")\n",
    "\n",
    "    "
   ]
  },
  {
   "cell_type": "markdown",
   "id": "12f1a382-58f7-4727-aefd-425eda5bee3c",
   "metadata": {},
   "source": [
    "#### 8: Write a Python program to find the largest element in a list using a for loop."
   ]
  },
  {
   "cell_type": "code",
   "execution_count": 9,
   "id": "3515ad4c-4de9-4725-a4b2-04d515ab9f41",
   "metadata": {},
   "outputs": [
    {
     "name": "stdin",
     "output_type": "stream",
     "text": [
      "How many more elements in the list?  5\n",
      "Enter the first element:  7\n",
      "Enter element 2:  6565\n",
      "Enter element 3:  3875\n",
      "Enter element 4:  8\n",
      "Enter element 5:  858\n",
      "Enter element 6:  435\n"
     ]
    },
    {
     "name": "stdout",
     "output_type": "stream",
     "text": [
      "The largest number is: 6565\n"
     ]
    }
   ],
   "source": [
    "n = int(input(\"How many more elements in the list? \"))\n",
    "largest = int(input(\"Enter the first element: \"))\n",
    "\n",
    "\n",
    "for i in range(n):\n",
    "    element = int(input(f\"Enter element {i + 2}: \"))\n",
    "    if element > largest:\n",
    "        largest = element\n",
    "        \n",
    "print(\"The largest number is:\", largest)"
   ]
  },
  {
   "cell_type": "markdown",
   "id": "d0fdfaa7-7364-42b3-9187-4598d2f5988c",
   "metadata": {},
   "source": [
    "#### 9: Write a Python program to reverse a given string using a for loop."
   ]
  },
  {
   "cell_type": "code",
   "execution_count": null,
   "id": "dcd0a5f5-a2cb-4d7b-9b77-84957dfe8a92",
   "metadata": {},
   "outputs": [],
   "source": [
    "str = input(\"Enter a string: \")\n",
    "reversed_str = \"\"\n",
    "\n",
    "for char in str:\n",
    "    reversed_str = char + reversed_str\n",
    "\n",
    "print(f\"The reversed string is: {reversed_str}\")"
   ]
  },
  {
   "cell_type": "markdown",
   "id": "ad36b212-b572-4912-9867-9d6453b87b9f",
   "metadata": {},
   "source": [
    "#### 10: Write a Python program to find the common elements between two lists using a for loop..\r\n",
    "List1 = [1,2,3]\r\n",
    "List2 = [4,5,1]"
   ]
  },
  {
   "cell_type": "code",
   "execution_count": 25,
   "id": "f9ba49df-b425-49a8-a5af-1139c98cd613",
   "metadata": {},
   "outputs": [
    {
     "name": "stdout",
     "output_type": "stream",
     "text": [
      "Common elements: [1]\n"
     ]
    }
   ],
   "source": [
    "list1 = [1, 2, 3]\n",
    "list2 = [4, 5, 1]\n",
    "common = []\n",
    "\n",
    "for element in list1:\n",
    "    if element in list2 and element not in common:\n",
    "        common.append(element)\n",
    "\n",
    "print(f\"Common elements: {common}\")\n"
   ]
  }
 ],
 "metadata": {
  "kernelspec": {
   "display_name": "Python 3 (ipykernel)",
   "language": "python",
   "name": "python3"
  },
  "language_info": {
   "codemirror_mode": {
    "name": "ipython",
    "version": 3
   },
   "file_extension": ".py",
   "mimetype": "text/x-python",
   "name": "python",
   "nbconvert_exporter": "python",
   "pygments_lexer": "ipython3",
   "version": "3.12.4"
  }
 },
 "nbformat": 4,
 "nbformat_minor": 5
}
